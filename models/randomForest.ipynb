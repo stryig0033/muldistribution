{
 "cells": [
  {
   "cell_type": "code",
   "execution_count": 1,
   "id": "df2c213d",
   "metadata": {},
   "outputs": [
    {
     "data": {
      "text/plain": [
       "'/Users/tomokitakata/Desktop/research/dev/muldistribution/models'"
      ]
     },
     "execution_count": 1,
     "metadata": {},
     "output_type": "execute_result"
    }
   ],
   "source": [
    "import pandas as pd\n",
    "import geopandas as gpd\n",
    "from sklearn.ensemble import RandomForestRegressor\n",
    "from xgboost import XGBRegressor\n",
    "from lightgbm import LGBMRegressor\n",
    "from sklearn.metrics import mean_squared_error, r2_score\n",
    "from sklearn.model_selection import train_test_split\n",
    "import numpy as np\n",
    "from tqdm import tqdm\n",
    "import os\n",
    "\n",
    "os.getcwd()"
   ]
  },
  {
   "cell_type": "markdown",
   "id": "3ed417da",
   "metadata": {},
   "source": [
    "# データ読み込みと前処理"
   ]
  },
  {
   "cell_type": "code",
   "execution_count": 2,
   "id": "d140b3ed",
   "metadata": {},
   "outputs": [],
   "source": [
    "# 医療機関POIデータ読み込み\n",
    "rihabili = gpd.read_file('../data/medicalpoi/2010/リハビリテーション科.shp')\n",
    "gastro = gpd.read_file('../data/medicalpoi/2010/消化器内科.shp')\n",
    "cardio = gpd.read_file('../data/medicalpoi/2010/循環器内科.shp')\n",
    "uro = gpd.read_file('../data/medicalpoi/2010/泌尿器内科.shp')\n",
    "# gridデータ読み込み\n",
    "grid = gpd.read_file('../data/grid/wholejapan_grid/wholejapan_grid.shp')\n",
    "# 医療機関POIデータが各gridに何件あるかを集計\n",
    "# gpkgデータとして出力"
   ]
  },
  {
   "cell_type": "code",
   "execution_count": 3,
   "id": "35a84a70",
   "metadata": {},
   "outputs": [],
   "source": [
    "import geopandas as gpd\n",
    "from pathlib import Path\n",
    "\n",
    "# ── 0. パス設定 ─────────────────────────────────\n",
    "poi_files = {\n",
    "    \"Rehabilitation\": \"../data/medicalpoi/2010/リハビリテーション科.shp\",\n",
    "    \"Gastro\":         \"../data/medicalpoi/2010/消化器内科.shp\",\n",
    "    \"Cardio\":         \"../data/medicalpoi/2010/循環器内科.shp\",\n",
    "    \"Urology\":        \"../data/medicalpoi/2010/泌尿器内科.shp\",\n",
    "}\n",
    "grid_path = \"../data/grid/wholejapan_grid/wholejapan_grid.shp\"\n",
    "out_gpkg  = Path(\"grid_with_poi_counts.gpkg\")\n",
    "\n",
    "# ── 1. グリッド読み込み（基準 CRS を決める） ──────────\n",
    "grid = gpd.read_file(grid_path)\n",
    "grid = grid.set_crs(4326) if grid.crs is None else grid   # ↓ポイント類もこの座標系に合わせる\n",
    "\n",
    "# ユニークキー列（無ければ index を使う）\n",
    "gid_col = \"grid_id\"\n",
    "if gid_col not in grid.columns:\n",
    "    grid[gid_col] = grid.index.astype(int)\n",
    "\n",
    "# ── 2. 各診療科について「グリッド内件数」を計算 ───────\n",
    "for eng, path in poi_files.items():\n",
    "    poi = gpd.read_file(path)\n",
    "    poi = poi.set_crs(4326) if poi.crs is None else poi     # 度数系と仮定\n",
    "    poi = poi.to_crs(grid.crs)                              # CRS 揃える\n",
    "\n",
    "    # a) 空間結合（各ポイントが属するグリッド ID を取る）\n",
    "    joined = gpd.sjoin(poi[[poi.geometry.name]],\n",
    "                       grid[[gid_col, grid.geometry.name]],\n",
    "                       predicate=\"within\",\n",
    "                       how=\"left\")\n",
    "\n",
    "    # b) グリッド単位で件数カウント\n",
    "    cnt = (\n",
    "        joined\n",
    "        .groupby(gid_col)\n",
    "        .size()\n",
    "        .rename(f\"{eng}_cnt\")        # 列名例: Rehabilitation_cnt\n",
    "        .to_frame()\n",
    "    )\n",
    "\n",
    "    # c) グリッド本体にマージ（無いところは 0）\n",
    "    grid = grid.merge(cnt, on=gid_col, how=\"left\")\n",
    "    grid[f\"{eng}_cnt\"] = grid[f\"{eng}_cnt\"].fillna(0).astype(int)\n",
    "\n",
    "# ── 3. GeoPackage に書き出し  (全診療科まとめて 1 レイヤ) ─\n",
    "# out_gpkg.unlink(missing_ok=True)        # 既存を削除\n",
    "# grid.to_file(out_gpkg, layer=\"grid_poi_counts\", driver=\"GPKG\")\n",
    "# print(\"✅ 書き出し完了 →\", out_gpkg.resolve())"
   ]
  },
  {
   "cell_type": "code",
   "execution_count": 4,
   "id": "1681e4bf",
   "metadata": {},
   "outputs": [
    {
     "name": "stderr",
     "output_type": "stream",
     "text": [
      "/var/folders/nw/cvnq7pwd21qdy7ff97bszbq40000gn/T/ipykernel_9511/204052548.py:80: UserWarning: Geometry is in a geographic CRS. Results from 'centroid' are likely incorrect. Use 'GeoSeries.to_crs()' to re-project geometries to a projected CRS before this operation.\n",
      "\n",
      "  cent        = grid_metric.geometry.centroid   # ←メートル系なら警告無し\n"
     ]
    }
   ],
   "source": [
    "\"\"\"\n",
    "make_ml_table.py\n",
    "────────────────────────────────────────────────────────\n",
    "1. 日本全国メッシュ (wholejapan_grid.shp) を基盤に\n",
    "2. 各診療科 POI 件数を集計           → *_cnt 列\n",
    "3. 人口メッシュ (pop_grid.gpkg) を合体 → population 列\n",
    "4. 機械学習用の DataFrame (= geometry なし) を保存\n",
    "   ・grid_id, centroid_X/Y, 各 *_cnt, population\n",
    "────────────────────────────────────────────────────────\n",
    "\"\"\"\n",
    "\n",
    "from pathlib import Path\n",
    "import geopandas as gpd\n",
    "import pandas as pd\n",
    "\n",
    "# ─── 入出力パス ─────────────────────────────────────────\n",
    "grid_path = Path(\"../data/grid/wholejapan_grid/wholejapan_grid.shp\")\n",
    "pop_path  = Path(\"../data/pop/2010/pop_grid.gpkg\")           # ★人口\n",
    "poi_files = {\n",
    "    \"Rehabilitation\": \"../data/medicalpoi/2010/リハビリテーション科.shp\",\n",
    "    \"Gastro\":         \"../data/medicalpoi/2010/消化器内科.shp\",\n",
    "    \"Cardio\":         \"../data/medicalpoi/2010/循環器内科.shp\",\n",
    "    \"Urology\":        \"../data/medicalpoi/2010/泌尿器内科.shp\",\n",
    "}\n",
    "\n",
    "out_geo = Path(\"grid_with_features.gpkg\")   # 中間 GeoPackage\n",
    "out_df  = Path(\"ml_table.parquet\")          # 最終 ML テーブル\n",
    "\n",
    "pop_col = \"Total population\"               # 人口列名 in pop_grid.gpkg\n",
    "gid_col = \"grid_id\"                        # → なければ index で作成\n",
    "\n",
    "# ─── 1. 基盤グリッド読み込み ────────────────────────────\n",
    "\n",
    "# 変更後（存在すればそのまま、無ければ 4326 をセット）\n",
    "grid = gpd.read_file(grid_path)\n",
    "grid = grid if grid.crs is not None else grid.set_crs(4326)\n",
    "if gid_col not in grid.columns:\n",
    "    grid[gid_col] = grid.index.astype(int)\n",
    "\n",
    "# ─── 2. 各診療科の POI → グリッド件数集計 ───────────────\n",
    "for name, path in poi_files.items():\n",
    "    poi = gpd.read_file(path).set_crs(4326).to_crs(grid.crs)\n",
    "    join = gpd.sjoin(poi[[poi.geometry.name]],\n",
    "                     grid[[gid_col, grid.geometry.name]],\n",
    "                     predicate=\"within\", how=\"left\")\n",
    "    cnt  = (\n",
    "        join.groupby(gid_col).size()\n",
    "             .rename(f\"{name}_cnt\")\n",
    "             .to_frame()\n",
    "    )\n",
    "    grid = grid.merge(cnt, on=gid_col, how=\"left\")\n",
    "    grid[f\"{name}_cnt\"] = grid[f\"{name}_cnt\"].fillna(0).astype(\"uint16\")\n",
    "\n",
    "# ─── 3. 人口メッシュの結合 ──────────────────────────────\n",
    "pop = gpd.read_file(pop_path)            # 読み込み\n",
    "if pop.crs is None:                      # ← CRS が無い時だけラベル付与\n",
    "    pop = pop.set_crs(4326)\n",
    "pop = pop.to_crs(grid.crs)               \n",
    "if pop_col not in pop.columns:\n",
    "    raise KeyError(f\"列 {pop_col} が見当たりません\")\n",
    "\n",
    "# → geometry 同士で重ね合わせ（intersects で十分）\n",
    "pop_trim = pop[[pop_col, pop.geometry.name]]\n",
    "join_pop = gpd.sjoin(pop_trim, grid[[gid_col, grid.geometry.name]],\n",
    "                     predicate=\"intersects\", how=\"left\")\n",
    "\n",
    "pop_sum = (\n",
    "    join_pop.groupby(gid_col)[pop_col].sum()\n",
    "            .rename(\"population\")\n",
    "            .to_frame()\n",
    ")\n",
    "\n",
    "grid = grid.merge(pop_sum, on=gid_col, how=\"left\")\n",
    "grid[\"population\"] = grid[\"population\"].fillna(0).astype(\"uint32\")\n",
    "\n",
    "# ─── 4. セントロイド座標列を追加 (ML 用) ────────────────\n",
    "# 投影系 (例: EPSG:6697 = JGD2011 / Albers) へ一時変換して計算\n",
    "proj_epsg = 6697\n",
    "grid_metric = grid.to_crs(proj_epsg)\n",
    "cent        = grid_metric.geometry.centroid   # ←メートル系なら警告無し\n",
    "grid[\"centroid_X\"] = cent.x\n",
    "grid[\"centroid_Y\"] = cent.y\n",
    "\n",
    "# ─── 5. 保存 ───────────────────────────────────────────\n",
    "#   a) GeoPackage (QGIS で確認用)\n",
    "# out_geo.unlink(missing_ok=True)\n",
    "# grid.to_file(out_geo, layer=\"grid_features\", driver=\"GPKG\")\n",
    "# print(\"✅ GeoPackage:\", out_geo.resolve())\n",
    "\n",
    "#   b) 機械学習テーブル (geometry を除く)\n",
    "df = grid.drop(columns=\"geometry\")\n",
    "# df.to_csv(\"ml_table.csv\", index=False)"
   ]
  },
  {
   "cell_type": "code",
   "execution_count": 12,
   "id": "f09861d3",
   "metadata": {},
   "outputs": [
    {
     "data": {
      "application/vnd.microsoft.datawrangler.viewer.v0+json": {
       "columns": [
        {
         "name": "index",
         "rawType": "int64",
         "type": "integer"
        },
        {
         "name": "KEY_CODE",
         "rawType": "object",
         "type": "string"
        },
        {
         "name": "MESH1_ID",
         "rawType": "object",
         "type": "string"
        },
        {
         "name": "MESH2_ID",
         "rawType": "object",
         "type": "string"
        },
        {
         "name": "MESH3_ID",
         "rawType": "object",
         "type": "string"
        },
        {
         "name": "OBJ_ID",
         "rawType": "float64",
         "type": "float"
        },
        {
         "name": "grid_id",
         "rawType": "int64",
         "type": "integer"
        },
        {
         "name": "Rehabilitation_cnt",
         "rawType": "uint16",
         "type": "integer"
        },
        {
         "name": "Gastro_cnt",
         "rawType": "uint16",
         "type": "integer"
        },
        {
         "name": "Cardio_cnt",
         "rawType": "uint16",
         "type": "integer"
        },
        {
         "name": "Urology_cnt",
         "rawType": "uint16",
         "type": "integer"
        },
        {
         "name": "population",
         "rawType": "uint32",
         "type": "integer"
        },
        {
         "name": "centroid_X",
         "rawType": "float64",
         "type": "float"
        },
        {
         "name": "centroid_Y",
         "rawType": "float64",
         "type": "float"
        }
       ],
       "conversionMethod": "pd.DataFrame",
       "ref": "075348cb-ed6c-4fb8-9dc8-df79750f2f99",
       "rows": [
        [
         "0",
         "66440000",
         "6644",
         "00",
         "00",
         "1.0",
         "0",
         "0",
         "0",
         "0",
         "0",
         "4",
         "144.00625",
         "44.00416666666666"
        ],
        [
         "1",
         "66440001",
         "6644",
         "00",
         "01",
         "2.0",
         "1",
         "0",
         "0",
         "0",
         "0",
         "0",
         "144.01874999999998",
         "44.00416666666666"
        ],
        [
         "2",
         "66440002",
         "6644",
         "00",
         "02",
         "3.0",
         "2",
         "0",
         "0",
         "0",
         "0",
         "0",
         "144.03125",
         "44.00416666666666"
        ],
        [
         "3",
         "66440003",
         "6644",
         "00",
         "03",
         "4.0",
         "3",
         "0",
         "0",
         "0",
         "0",
         "0",
         "144.04375000000002",
         "44.00416666666666"
        ],
        [
         "4",
         "66440004",
         "6644",
         "00",
         "04",
         "5.0",
         "4",
         "0",
         "0",
         "0",
         "0",
         "0",
         "144.05624999999998",
         "44.00416666666666"
        ]
       ],
       "shape": {
        "columns": 13,
        "rows": 5
       }
      },
      "text/html": [
       "<div>\n",
       "<style scoped>\n",
       "    .dataframe tbody tr th:only-of-type {\n",
       "        vertical-align: middle;\n",
       "    }\n",
       "\n",
       "    .dataframe tbody tr th {\n",
       "        vertical-align: top;\n",
       "    }\n",
       "\n",
       "    .dataframe thead th {\n",
       "        text-align: right;\n",
       "    }\n",
       "</style>\n",
       "<table border=\"1\" class=\"dataframe\">\n",
       "  <thead>\n",
       "    <tr style=\"text-align: right;\">\n",
       "      <th></th>\n",
       "      <th>KEY_CODE</th>\n",
       "      <th>MESH1_ID</th>\n",
       "      <th>MESH2_ID</th>\n",
       "      <th>MESH3_ID</th>\n",
       "      <th>OBJ_ID</th>\n",
       "      <th>grid_id</th>\n",
       "      <th>Rehabilitation_cnt</th>\n",
       "      <th>Gastro_cnt</th>\n",
       "      <th>Cardio_cnt</th>\n",
       "      <th>Urology_cnt</th>\n",
       "      <th>population</th>\n",
       "      <th>centroid_X</th>\n",
       "      <th>centroid_Y</th>\n",
       "    </tr>\n",
       "  </thead>\n",
       "  <tbody>\n",
       "    <tr>\n",
       "      <th>0</th>\n",
       "      <td>66440000</td>\n",
       "      <td>6644</td>\n",
       "      <td>00</td>\n",
       "      <td>00</td>\n",
       "      <td>1.0</td>\n",
       "      <td>0</td>\n",
       "      <td>0</td>\n",
       "      <td>0</td>\n",
       "      <td>0</td>\n",
       "      <td>0</td>\n",
       "      <td>4</td>\n",
       "      <td>144.00625</td>\n",
       "      <td>44.004167</td>\n",
       "    </tr>\n",
       "    <tr>\n",
       "      <th>1</th>\n",
       "      <td>66440001</td>\n",
       "      <td>6644</td>\n",
       "      <td>00</td>\n",
       "      <td>01</td>\n",
       "      <td>2.0</td>\n",
       "      <td>1</td>\n",
       "      <td>0</td>\n",
       "      <td>0</td>\n",
       "      <td>0</td>\n",
       "      <td>0</td>\n",
       "      <td>0</td>\n",
       "      <td>144.01875</td>\n",
       "      <td>44.004167</td>\n",
       "    </tr>\n",
       "    <tr>\n",
       "      <th>2</th>\n",
       "      <td>66440002</td>\n",
       "      <td>6644</td>\n",
       "      <td>00</td>\n",
       "      <td>02</td>\n",
       "      <td>3.0</td>\n",
       "      <td>2</td>\n",
       "      <td>0</td>\n",
       "      <td>0</td>\n",
       "      <td>0</td>\n",
       "      <td>0</td>\n",
       "      <td>0</td>\n",
       "      <td>144.03125</td>\n",
       "      <td>44.004167</td>\n",
       "    </tr>\n",
       "    <tr>\n",
       "      <th>3</th>\n",
       "      <td>66440003</td>\n",
       "      <td>6644</td>\n",
       "      <td>00</td>\n",
       "      <td>03</td>\n",
       "      <td>4.0</td>\n",
       "      <td>3</td>\n",
       "      <td>0</td>\n",
       "      <td>0</td>\n",
       "      <td>0</td>\n",
       "      <td>0</td>\n",
       "      <td>0</td>\n",
       "      <td>144.04375</td>\n",
       "      <td>44.004167</td>\n",
       "    </tr>\n",
       "    <tr>\n",
       "      <th>4</th>\n",
       "      <td>66440004</td>\n",
       "      <td>6644</td>\n",
       "      <td>00</td>\n",
       "      <td>04</td>\n",
       "      <td>5.0</td>\n",
       "      <td>4</td>\n",
       "      <td>0</td>\n",
       "      <td>0</td>\n",
       "      <td>0</td>\n",
       "      <td>0</td>\n",
       "      <td>0</td>\n",
       "      <td>144.05625</td>\n",
       "      <td>44.004167</td>\n",
       "    </tr>\n",
       "  </tbody>\n",
       "</table>\n",
       "</div>"
      ],
      "text/plain": [
       "   KEY_CODE MESH1_ID MESH2_ID MESH3_ID  OBJ_ID  grid_id  Rehabilitation_cnt  \\\n",
       "0  66440000     6644       00       00     1.0        0                   0   \n",
       "1  66440001     6644       00       01     2.0        1                   0   \n",
       "2  66440002     6644       00       02     3.0        2                   0   \n",
       "3  66440003     6644       00       03     4.0        3                   0   \n",
       "4  66440004     6644       00       04     5.0        4                   0   \n",
       "\n",
       "   Gastro_cnt  Cardio_cnt  Urology_cnt  population  centroid_X  centroid_Y  \n",
       "0           0           0            0           4   144.00625   44.004167  \n",
       "1           0           0            0           0   144.01875   44.004167  \n",
       "2           0           0            0           0   144.03125   44.004167  \n",
       "3           0           0            0           0   144.04375   44.004167  \n",
       "4           0           0            0           0   144.05625   44.004167  "
      ]
     },
     "execution_count": 12,
     "metadata": {},
     "output_type": "execute_result"
    }
   ],
   "source": [
    "df.head()"
   ]
  },
  {
   "cell_type": "markdown",
   "id": "a89d6e35",
   "metadata": {},
   "source": [
    "# random forest の構築"
   ]
  },
  {
   "cell_type": "code",
   "execution_count": 7,
   "id": "8a959d31",
   "metadata": {},
   "outputs": [
    {
     "name": "stdout",
     "output_type": "stream",
     "text": [
      "─ Grid search: 16 parameter combos × 5-fold CV\n",
      "\n"
     ]
    },
    {
     "name": "stderr",
     "output_type": "stream",
     "text": [
      " 25%|██▌       | 1/4 [05:17<15:53, 317.68s/it]"
     ]
    },
    {
     "name": "stdout",
     "output_type": "stream",
     "text": [
      "Rehabilitation       |  RMSE_test =   0.653   R²_test =  0.452\n",
      "   best_params : {'max_depth': 10, 'max_features': 'sqrt', 'min_samples_leaf': 1, 'min_samples_split': 2, 'n_estimators': 50} \n",
      "\n"
     ]
    },
    {
     "name": "stderr",
     "output_type": "stream",
     "text": [
      " 50%|█████     | 2/4 [10:19<10:16, 308.22s/it]"
     ]
    },
    {
     "name": "stdout",
     "output_type": "stream",
     "text": [
      "Gastroenterology     |  RMSE_test =   0.604   R²_test =  0.493\n",
      "   best_params : {'max_depth': 15, 'max_features': 'sqrt', 'min_samples_leaf': 1, 'min_samples_split': 5, 'n_estimators': 50} \n",
      "\n"
     ]
    },
    {
     "name": "stderr",
     "output_type": "stream",
     "text": [
      " 75%|███████▌  | 3/4 [15:26<05:07, 307.69s/it]"
     ]
    },
    {
     "name": "stdout",
     "output_type": "stream",
     "text": [
      "Cardiology           |  RMSE_test =   0.436   R²_test =  0.412\n",
      "   best_params : {'max_depth': 10, 'max_features': 'sqrt', 'min_samples_leaf': 1, 'min_samples_split': 5, 'n_estimators': 50} \n",
      "\n"
     ]
    },
    {
     "name": "stderr",
     "output_type": "stream",
     "text": [
      "100%|██████████| 4/4 [20:22<00:00, 305.56s/it]"
     ]
    },
    {
     "name": "stdout",
     "output_type": "stream",
     "text": [
      "Urology (Med.)       |  RMSE_test =   0.552   R²_test =  0.247\n",
      "   best_params : {'max_depth': 10, 'max_features': 'sqrt', 'min_samples_leaf': 2, 'min_samples_split': 5, 'n_estimators': 50} \n",
      "\n"
     ]
    },
    {
     "name": "stderr",
     "output_type": "stream",
     "text": [
      "\n"
     ]
    }
   ],
   "source": [
    "# rf_gridsearch_by_section.py\n",
    "import pandas as pd\n",
    "import numpy as np\n",
    "from pathlib import Path\n",
    "from sklearn.model_selection import train_test_split, GridSearchCV\n",
    "from sklearn.ensemble import RandomForestRegressor\n",
    "from sklearn.metrics import mean_squared_error, r2_score, make_scorer\n",
    "from joblib import parallel_backend  \n",
    "from tqdm  import tqdm\n",
    "\n",
    "# ── 0.  入力ファイル ────────────────────────────────\n",
    "df_path = Path(\"ml_table.csv\")          # 作成済み CSV\n",
    "df = pd.read_csv(df_path)\n",
    "\n",
    "# ── 1.  共通設定 ──────────────────────────────────\n",
    "features = [\"population\", \"centroid_X\", \"centroid_Y\"]\n",
    "targets  = {\n",
    "    \"Rehabilitation_cnt\": \"Rehabilitation\",\n",
    "    \"Gastro_cnt\":         \"Gastroenterology\",\n",
    "    \"Cardio_cnt\":         \"Cardiology\",\n",
    "    \"Urology_cnt\":        \"Urology (Med.)\"\n",
    "}\n",
    "test_size    = 0.2\n",
    "random_state = 42\n",
    "cv_folds     = 5\n",
    "\n",
    "# RMSE（正の値）を返す scorer\n",
    "rmse_scorer = make_scorer(\n",
    "    lambda y, yhat: np.sqrt(mean_squared_error(y, yhat)),\n",
    "    greater_is_better=False       # GridSearch は「大きいほど良い」を期待\n",
    ")\n",
    "\n",
    "# 代表的なハイパーパラメータセット\n",
    "param_grid = {\n",
    "    \"n_estimators\": [20, 50],        # ←例：とりあえず2通り\n",
    "    \"max_depth\": [10, 15],\n",
    "    \"max_features\": [\"sqrt\"],\n",
    "    \"min_samples_leaf\": [1, 2],\n",
    "    \"min_samples_split\": [2, 5],\n",
    "}\n",
    "\n",
    "print(f\"─ Grid search: {len(param_grid['n_estimators'])*len(param_grid['max_depth'])*len(param_grid['min_samples_split'])*len(param_grid['min_samples_leaf'])*len(param_grid['max_features'])} parameter combos × {cv_folds}-fold CV\\n\")\n",
    "\n",
    "# ── 2.  診療科ごとに学習 ───────────────────────────\n",
    "for col, label in tqdm(targets.items()):\n",
    "    X = df[features]\n",
    "    y = df[col]\n",
    "\n",
    "    X_train, X_test, y_train, y_test = train_test_split(\n",
    "        X, y, test_size=test_size, random_state=random_state\n",
    "    )\n",
    "\n",
    "    base_rf = RandomForestRegressor(random_state=random_state)\n",
    "\n",
    "    gsearch = GridSearchCV(\n",
    "        base_rf,\n",
    "        param_grid,\n",
    "        scoring={\"RMSE\": rmse_scorer, \"R2\": \"r2\"},\n",
    "        refit=\"RMSE\",         # = 最小 RMSE を選ぶ\n",
    "        cv=cv_folds,\n",
    "        n_jobs=-1,            # CPU 全コア\n",
    "        verbose=0\n",
    "    )\n",
    "\n",
    "    # scikit‑learn 1.4 以降は loky backend がデフォルト\n",
    "    with parallel_backend(\"loky\"):\n",
    "        gsearch.fit(X_train, y_train)\n",
    "\n",
    "    best = gsearch.best_estimator_\n",
    "    y_pred = best.predict(X_test)\n",
    "\n",
    "    rmse_test = np.sqrt(mean_squared_error(y_test, y_pred))\n",
    "    r2_test   = r2_score(y_test, y_pred)\n",
    "\n",
    "    print(f\"{label:20s} |  RMSE_test = {rmse_test:7.3f}   R²_test = {r2_test:6.3f}\")\n",
    "    print(\"   best_params :\", gsearch.best_params_, \"\\n\")"
   ]
  }
 ],
 "metadata": {
  "kernelspec": {
   "display_name": ".venv",
   "language": "python",
   "name": "python3"
  },
  "language_info": {
   "codemirror_mode": {
    "name": "ipython",
    "version": 3
   },
   "file_extension": ".py",
   "mimetype": "text/x-python",
   "name": "python",
   "nbconvert_exporter": "python",
   "pygments_lexer": "ipython3",
   "version": "3.12.0"
  }
 },
 "nbformat": 4,
 "nbformat_minor": 5
}
