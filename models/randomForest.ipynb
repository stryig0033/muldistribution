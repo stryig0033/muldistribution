{
 "cells": [
  {
   "cell_type": "code",
   "execution_count": null,
   "id": "4e7a54c9",
   "metadata": {},
   "outputs": [],
   "source": [
    "from sklearn.ensemble import RandomForestRegressor\n",
    "from sklearn.multioutput import MultiOutputRegressor\n",
    "from sklearn.pipeline import Pipeline\n",
    "import utils, numpy as np\n",
    "from tqdm import tqdm\n",
    "\n",
    "X, y    = utils.load_data()\n",
    "prep    = utils.make_preprocessor(X.columns.tolist())\n",
    "cv      = utils.get_cv()\n",
    "TARGETS = utils.TARGETS\n",
    "\n",
    "def make_pipe(base):\n",
    "    return Pipeline([(\"prep\", prep), (\"rf\", base)])\n",
    "\n",
    "print(\"▼ Single-task RF  (20 iter RandomizedSearch)\")\n",
    "for t in tqdm(TARGETS):\n",
    "    base = RandomForestRegressor(random_state=0, n_jobs=-1)\n",
    "    pipe = make_pipe(base)\n",
    "    best, *_ = utils.tune_model(pipe, X, y[t], cv)\n",
    "    rmse, r2 = utils.cv_metrics(best, X, y[t], cv)\n",
    "    print(f\"{t:<12}  RMSE={rmse:6.2f}   R²={r2:6.3f}\")\n",
    "\n",
    "print(\"\\n▼ Multi-task RF\")\n",
    "base_mt = MultiOutputRegressor(RandomForestRegressor(random_state=0, n_jobs=-1), n_jobs=-1)\n",
    "pipe_mt, *_ = utils.tune_model(make_pipe(base_mt), X, y, cv)\n",
    "rmse_mt, r2_mt = utils.cv_metrics(pipe_mt, X, y, cv)\n",
    "print(f\"平均 RMSE = {rmse_mt:6.2f}   平均 R² = {r2_mt:6.3f}\")"
   ]
  },
  {
   "cell_type": "code",
   "execution_count": null,
   "id": "ad978bb5",
   "metadata": {},
   "outputs": [],
   "source": [
    "import utils, importlib, inspect, os\n",
    "print(\"✔  utils is:\", utils.__file__)           # どのパスの utils を読んでいる？\n",
    "print(\"✔  tune_model source↓\")\n",
    "print(inspect.getsource(utils.tune_model)[:400])  # 冒頭だけ表示"
   ]
  },
  {
   "cell_type": "code",
   "execution_count": null,
   "id": "f10f28b2",
   "metadata": {},
   "outputs": [],
   "source": [
    "# デバッグ用パイプラインを1本だけ作る\n",
    "dummy_pipe = Pipeline([\n",
    "    (\"prep\", utils.make_preprocessor([])),        # 入力列は空でもよい\n",
    "    (\"rf\"  , RandomForestRegressor())\n",
    "])\n",
    "\n",
    "print(\"🔍 param_dist keys ↓\")\n",
    "print(utils.rf_param_dist(dummy_pipe).keys())\n"
   ]
  },
  {
   "cell_type": "code",
   "execution_count": null,
   "id": "e746a7bc",
   "metadata": {},
   "outputs": [],
   "source": [
    "from sklearn.ensemble import RandomForestRegressor\n",
    "from sklearn.pipeline import Pipeline\n",
    "import utils\n",
    "\n",
    "dummy_pipe = Pipeline([\n",
    "    (\"prep\", utils.make_preprocessor([])),\n",
    "    (\"rf\",   RandomForestRegressor())\n",
    "])\n",
    "print(utils.rf_param_dist(dummy_pipe).keys())"
   ]
  },
  {
   "cell_type": "code",
   "execution_count": null,
   "id": "a91e6a4a",
   "metadata": {},
   "outputs": [],
   "source": []
  }
 ],
 "metadata": {
  "kernelspec": {
   "display_name": ".venv",
   "language": "python",
   "name": "python3"
  },
  "language_info": {
   "codemirror_mode": {
    "name": "ipython",
    "version": 3
   },
   "file_extension": ".py",
   "mimetype": "text/x-python",
   "name": "python",
   "nbconvert_exporter": "python",
   "pygments_lexer": "ipython3",
   "version": "3.12.10"
  }
 },
 "nbformat": 4,
 "nbformat_minor": 5
}
