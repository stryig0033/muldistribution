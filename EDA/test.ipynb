{
 "cells": [
  {
   "cell_type": "code",
   "execution_count": 1,
   "id": "df2c213d",
   "metadata": {},
   "outputs": [
    {
     "data": {
      "text/plain": [
       "'/workspaces/muldistribution/EDA'"
      ]
     },
     "execution_count": 1,
     "metadata": {},
     "output_type": "execute_result"
    }
   ],
   "source": [
    "import pandas as pd\n",
    "import geopandas as gpd\n",
    "from sklearn.ensemble import RandomForestRegressor\n",
    "from xgboost import XGBRegressor\n",
    "from lightgbm import LGBMRegressor\n",
    "from sklearn.metrics import mean_squared_error, r2_score, r2_score, make_scorer\n",
    "from sklearn.model_selection import train_test_split, GridSearchCV\n",
    "from sklearn.utils import parallel_backend\n",
    "import numpy as np\n",
    "from tqdm import tqdm\n",
    "import geopandas as gpd\n",
    "from pathlib import Path\n",
    "import os\n",
    "import matplotlib.pyplot as plt\n",
    "from sklearn.experimental import enable_halving_search_cv\n",
    "\n",
    "from tqdm  import tqdm\n",
    "\n",
    "os.getcwd()"
   ]
  },
  {
   "cell_type": "markdown",
   "id": "3ed417da",
   "metadata": {},
   "source": [
    "# データ読み込みと前処理\n",
    "この処理で、それぞれいろんな形式を持つデータを統合。全国各1kmグリッドに対して診療科別POI件数、人口、セントロイド座標を付与し、geopackageとcsvで出力している。(geopackageいるかな？)"
   ]
  },
  {
   "cell_type": "code",
   "execution_count": null,
   "id": "e071d0fe",
   "metadata": {},
   "outputs": [],
   "source": [
    "\"\"\"\n",
    "全国 1 km グリッドに\n",
    "  ① 診療科別 POI 件数\n",
    "  ② 人口\n",
    "  ③ セントロイド座標（メートル系）\n",
    "を付与し、GeoPackage と CSV を出力するユーティリティ。\n",
    "\"\"\"\n",
    "\n",
    "from pathlib import Path\n",
    "import geopandas as gpd\n",
    "\n",
    "# ───────── 0. パス定義 ────────────────────────────────\n",
    "DATA_DIR   = Path(\"../data\")\n",
    "GRID_PATH  = DATA_DIR / \"grid/wholejapan_grid/wholejapan_grid.shp\"\n",
    "POP_PATH   = DATA_DIR / \"pop/2010/pop_grid.gpkg\"\n",
    "POI_DIR    = DATA_DIR / \"medicalpoi/2010\"\n",
    "\n",
    "OUTPUT_GPKG = Path(\"grid_features.gpkg\")\n",
    "OUTPUT_CSV  = Path(\"grid_features.csv\")\n",
    "\n",
    "POI_FILES = {\n",
    "    \"Rehab\" : POI_DIR / \"リハビリテーション科.shp\",\n",
    "    \"Gastro\": POI_DIR / \"消化器内科.shp\",\n",
    "    \"Cardio\": POI_DIR / \"循環器内科.shp\",\n",
    "    \"Uro\"   : POI_DIR / \"泌尿器内科.shp\",\n",
    "}\n",
    "\n",
    "POP_COL   = \"Total population\"   # pop_grid.gpkg 内の列名\n",
    "GRID_ID   = \"grid_id\"            # 無ければ自動生成\n",
    "TARGET_EPSG = 6697               # JGD2011 / Albers（メートル系）\n",
    "\n",
    "# ───────── 1. ヘルパー関数群 ─────────────────────────\n",
    "def read_layer(path: Path, crs_like) -> gpd.GeoDataFrame:\n",
    "    \"\"\"CRS を揃えて読み込む（Undefined → crs_like をセット）\"\"\"\n",
    "    gdf = gpd.read_file(path)\n",
    "    if gdf.crs is None:\n",
    "        gdf = gdf.set_crs(crs_like)\n",
    "    return gdf.to_crs(crs_like)\n",
    "\n",
    "def attach_poi_counts(grid: gpd.GeoDataFrame,\n",
    "                      poi_path: Path,\n",
    "                      out_col: str) -> gpd.GeoDataFrame:\n",
    "    \"\"\"POI シェープを読み込み、グリッド内件数を付与\"\"\"\n",
    "    poi   = read_layer(poi_path, grid.crs)\n",
    "    cnt   = (\n",
    "        gpd.sjoin(poi[['geometry']], grid[[GRID_ID, 'geometry']],\n",
    "                  predicate='within', how='left')\n",
    "        .groupby(GRID_ID).size().rename(out_col)\n",
    "    )\n",
    "    grid  = grid.join(cnt, on=GRID_ID)\n",
    "    grid[out_col] = grid[out_col].fillna(0).astype('uint16')\n",
    "    return grid\n",
    "\n",
    "# ───────── 2. グリッド GDF 準備 ──────────────────────\n",
    "grid = read_layer(GRID_PATH, 4326)\n",
    "if GRID_ID not in grid.columns:\n",
    "    grid[GRID_ID] = grid.index.astype(int)\n",
    "\n",
    "# ───────── 3. 診療科 POI 件数の付与 ──────────────────\n",
    "for short, shp in POI_FILES.items():\n",
    "    grid = attach_poi_counts(grid, shp, f\"{short}_cnt\")\n",
    "\n",
    "# ───────── 4. 人口メッシュ集計（intersects 合計） ─────\n",
    "pop = read_layer(POP_PATH, grid.crs)[[POP_COL, 'geometry']]\n",
    "pop_sum = (\n",
    "    gpd.sjoin(pop, grid[[GRID_ID, 'geometry']],\n",
    "              predicate='intersects', how='left')\n",
    "    .groupby(GRID_ID)[POP_COL].sum()\n",
    "    .rename(\"population\")\n",
    ")\n",
    "grid = grid.join(pop_sum, on=GRID_ID)\n",
    "grid[\"population\"] = grid[\"population\"].fillna(0).astype('uint32')\n",
    "\n",
    "# ───────── 5. セントロイド XY（メートル系） ──────────\n",
    "grid_proj = grid.to_crs(TARGET_EPSG)\n",
    "cent = grid_proj.geometry.centroid \n",
    "grid[\"centroid_X\"] = cent.x\n",
    "grid[\"centroid_Y\"] = cent.y\n",
    "\n",
    "# ───────── 6. 出力 ────────────────────────────────\n",
    "grid.to_file(OUTPUT_GPKG, layer=\"features\", driver=\"GPKG\", overwrite=True)\n",
    "grid.drop(columns='geometry').to_csv(OUTPUT_CSV, index=False)\n",
    "\n",
    "print(\"✅ Saved:\", OUTPUT_GPKG, \"and\", OUTPUT_CSV)"
   ]
  },
  {
   "cell_type": "code",
   "execution_count": 2,
   "id": "a096423e",
   "metadata": {},
   "outputs": [
    {
     "data": {
      "text/html": [
       "<div>\n",
       "<style scoped>\n",
       "    .dataframe tbody tr th:only-of-type {\n",
       "        vertical-align: middle;\n",
       "    }\n",
       "\n",
       "    .dataframe tbody tr th {\n",
       "        vertical-align: top;\n",
       "    }\n",
       "\n",
       "    .dataframe thead th {\n",
       "        text-align: right;\n",
       "    }\n",
       "</style>\n",
       "<table border=\"1\" class=\"dataframe\">\n",
       "  <thead>\n",
       "    <tr style=\"text-align: right;\">\n",
       "      <th></th>\n",
       "      <th>KEY_CODE</th>\n",
       "      <th>MESH1_ID</th>\n",
       "      <th>MESH2_ID</th>\n",
       "      <th>MESH3_ID</th>\n",
       "      <th>OBJ_ID</th>\n",
       "      <th>grid_id</th>\n",
       "      <th>Rehab_cnt</th>\n",
       "      <th>Gastro_cnt</th>\n",
       "      <th>Cardio_cnt</th>\n",
       "      <th>Uro_cnt</th>\n",
       "      <th>population</th>\n",
       "      <th>centroid_X</th>\n",
       "      <th>centroid_Y</th>\n",
       "    </tr>\n",
       "  </thead>\n",
       "  <tbody>\n",
       "    <tr>\n",
       "      <th>0</th>\n",
       "      <td>66440000</td>\n",
       "      <td>6644.0</td>\n",
       "      <td>0.0</td>\n",
       "      <td>0.0</td>\n",
       "      <td>1.0</td>\n",
       "      <td>0</td>\n",
       "      <td>0</td>\n",
       "      <td>0</td>\n",
       "      <td>0</td>\n",
       "      <td>0</td>\n",
       "      <td>4</td>\n",
       "      <td>144.00625</td>\n",
       "      <td>44.004167</td>\n",
       "    </tr>\n",
       "    <tr>\n",
       "      <th>1</th>\n",
       "      <td>66440001</td>\n",
       "      <td>6644.0</td>\n",
       "      <td>0.0</td>\n",
       "      <td>1.0</td>\n",
       "      <td>2.0</td>\n",
       "      <td>1</td>\n",
       "      <td>0</td>\n",
       "      <td>0</td>\n",
       "      <td>0</td>\n",
       "      <td>0</td>\n",
       "      <td>0</td>\n",
       "      <td>144.01875</td>\n",
       "      <td>44.004167</td>\n",
       "    </tr>\n",
       "    <tr>\n",
       "      <th>2</th>\n",
       "      <td>66440002</td>\n",
       "      <td>6644.0</td>\n",
       "      <td>0.0</td>\n",
       "      <td>2.0</td>\n",
       "      <td>3.0</td>\n",
       "      <td>2</td>\n",
       "      <td>0</td>\n",
       "      <td>0</td>\n",
       "      <td>0</td>\n",
       "      <td>0</td>\n",
       "      <td>0</td>\n",
       "      <td>144.03125</td>\n",
       "      <td>44.004167</td>\n",
       "    </tr>\n",
       "    <tr>\n",
       "      <th>3</th>\n",
       "      <td>66440003</td>\n",
       "      <td>6644.0</td>\n",
       "      <td>0.0</td>\n",
       "      <td>3.0</td>\n",
       "      <td>4.0</td>\n",
       "      <td>3</td>\n",
       "      <td>0</td>\n",
       "      <td>0</td>\n",
       "      <td>0</td>\n",
       "      <td>0</td>\n",
       "      <td>0</td>\n",
       "      <td>144.04375</td>\n",
       "      <td>44.004167</td>\n",
       "    </tr>\n",
       "    <tr>\n",
       "      <th>4</th>\n",
       "      <td>66440004</td>\n",
       "      <td>6644.0</td>\n",
       "      <td>0.0</td>\n",
       "      <td>4.0</td>\n",
       "      <td>5.0</td>\n",
       "      <td>4</td>\n",
       "      <td>0</td>\n",
       "      <td>0</td>\n",
       "      <td>0</td>\n",
       "      <td>0</td>\n",
       "      <td>0</td>\n",
       "      <td>144.05625</td>\n",
       "      <td>44.004167</td>\n",
       "    </tr>\n",
       "  </tbody>\n",
       "</table>\n",
       "</div>"
      ],
      "text/plain": [
       "   KEY_CODE  MESH1_ID  MESH2_ID  MESH3_ID  OBJ_ID  grid_id  Rehab_cnt  \\\n",
       "0  66440000    6644.0       0.0       0.0     1.0        0          0   \n",
       "1  66440001    6644.0       0.0       1.0     2.0        1          0   \n",
       "2  66440002    6644.0       0.0       2.0     3.0        2          0   \n",
       "3  66440003    6644.0       0.0       3.0     4.0        3          0   \n",
       "4  66440004    6644.0       0.0       4.0     5.0        4          0   \n",
       "\n",
       "   Gastro_cnt  Cardio_cnt  Uro_cnt  population  centroid_X  centroid_Y  \n",
       "0           0           0        0           4   144.00625   44.004167  \n",
       "1           0           0        0           0   144.01875   44.004167  \n",
       "2           0           0        0           0   144.03125   44.004167  \n",
       "3           0           0        0           0   144.04375   44.004167  \n",
       "4           0           0        0           0   144.05625   44.004167  "
      ]
     },
     "execution_count": 2,
     "metadata": {},
     "output_type": "execute_result"
    }
   ],
   "source": [
    "grid = pd.read_csv(\"grid_features.csv\")\n",
    "grid.head()"
   ]
  },
  {
   "cell_type": "markdown",
   "id": "4c26a168",
   "metadata": {},
   "source": [
    "# 各診療科の相関だけみとく。"
   ]
  },
  {
   "cell_type": "code",
   "execution_count": 3,
   "id": "761d5494",
   "metadata": {},
   "outputs": [
    {
     "name": "stdout",
     "output_type": "stream",
     "text": [
      "            Rehab_cnt  Gastro_cnt  Cardio_cnt  Uro_cnt\n",
      "Rehab_cnt       1.000       0.638       0.600    0.501\n",
      "Gastro_cnt      0.638       1.000       0.705    0.484\n",
      "Cardio_cnt      0.600       0.705       1.000    0.491\n",
      "Uro_cnt         0.501       0.484       0.491    1.000\n"
     ]
    }
   ],
   "source": [
    "cols = [\"Rehab_cnt\", \"Gastro_cnt\", \"Cardio_cnt\", \"Uro_cnt\"]\n",
    "corr = grid[cols].corr(method=\"spearman\")   # カウントは歪みが大きいので rank 相関が無難\n",
    "print(corr.round(3))"
   ]
  },
  {
   "cell_type": "code",
   "execution_count": 4,
   "id": "0f84de04",
   "metadata": {},
   "outputs": [
    {
     "data": {
      "image/png": "[encoded data removed]",
      "text/plain": [
       "<Figure size 640x480 with 2 Axes>"
      ]
     },
     "metadata": {},
     "output_type": "display_data"
    }
   ],
   "source": [
    "fig, ax = plt.subplots()\n",
    "\n",
    "im = ax.imshow(corr, vmin=-1, vmax=1, cmap=\"bwr\")\n",
    "\n",
    "# 軸ラベル\n",
    "ax.set_xticks(np.arange(len(cols)))\n",
    "ax.set_yticks(np.arange(len(cols)))\n",
    "ax.set_xticklabels(cols, rotation=45, ha=\"right\")\n",
    "ax.set_yticklabels(cols)\n",
    "\n",
    "# 値を描き込む\n",
    "for i in range(len(cols)):\n",
    "    for j in range(len(cols)):\n",
    "        ax.text(j, i, f\"{corr.iloc[i, j]:.2f}\",\n",
    "                ha=\"center\", va=\"center\", color=\"black\", fontsize=9)\n",
    "\n",
    "fig.colorbar(im, ax=ax, label=\"Spearman ρ\")\n",
    "plt.tight_layout()\n",
    "plt.show()"
   ]
  },
  {
   "cell_type": "markdown",
   "id": "b569ab4d",
   "metadata": {},
   "source": [
    "→結構相関高いね、まとめてモデル回したほうがいいんじゃない？"
   ]
  },
  {
   "cell_type": "markdown",
   "id": "a89d6e35",
   "metadata": {},
   "source": [
    "# random forest の構築"
   ]
  },
  {
   "cell_type": "code",
   "execution_count": null,
   "id": "8a959d31",
   "metadata": {},
   "outputs": [
    {
     "name": "stdout",
     "output_type": "stream",
     "text": [
      "Grid size: 48 × 5-fold CV\n"
     ]
    },
    {
     "name": "stderr",
     "output_type": "stream",
     "text": [
      "  0%|          | 0/4 [00:00<?, ?it/s]"
     ]
    },
    {
     "name": "stdout",
     "output_type": "stream",
     "text": [
      "\n",
      "🏥  Rehabilitation (Rehab_cnt) — training...\n"
     ]
    },
    {
     "name": "stderr",
     "output_type": "stream",
     "text": [
      " 25%|██▌       | 1/4 [04:55<14:47, 295.70s/it]"
     ]
    },
    {
     "name": "stdout",
     "output_type": "stream",
     "text": [
      "   RMSE_test =   0.658   R²_test =  0.443\n",
      "   best_params : {'max_depth': 20, 'max_features': 'sqrt', 'min_samples_leaf': 2, 'min_samples_split': 5, 'n_estimators': 300}\n",
      "\n",
      "🏥  Gastroenterology (Gastro_cnt) — training...\n"
     ]
    },
    {
     "name": "stderr",
     "output_type": "stream",
     "text": [
      " 50%|█████     | 2/4 [10:12<10:15, 307.84s/it]"
     ]
    },
    {
     "name": "stdout",
     "output_type": "stream",
     "text": [
      "   RMSE_test =   0.603   R²_test =  0.495\n",
      "   best_params : {'max_depth': 20, 'max_features': 'sqrt', 'min_samples_leaf': 2, 'min_samples_split': 2, 'n_estimators': 300}\n",
      "\n",
      "🏥  Cardiology (Cardio_cnt) — training...\n"
     ]
    },
    {
     "name": "stderr",
     "output_type": "stream",
     "text": [
      " 75%|███████▌  | 3/4 [14:53<04:55, 295.77s/it]"
     ]
    },
    {
     "name": "stdout",
     "output_type": "stream",
     "text": [
      "   RMSE_test =   0.435   R²_test =  0.416\n",
      "   best_params : {'max_depth': None, 'max_features': 'sqrt', 'min_samples_leaf': 2, 'min_samples_split': 5, 'n_estimators': 300}\n",
      "\n",
      "🏥  Urology (Med.) (Uro_cnt) — training...\n"
     ]
    },
    {
     "name": "stderr",
     "output_type": "stream",
     "text": [
      "100%|██████████| 4/4 [18:52<00:00, 283.18s/it]"
     ]
    },
    {
     "name": "stdout",
     "output_type": "stream",
     "text": [
      "   RMSE_test =   0.553   R²_test =  0.245\n",
      "   best_params : {'max_depth': 20, 'max_features': 'sqrt', 'min_samples_leaf': 2, 'min_samples_split': 5, 'n_estimators': 300}\n"
     ]
    },
    {
     "name": "stderr",
     "output_type": "stream",
     "text": [
      "\n"
     ]
    },
    {
     "name": "stderr",
     "output_type": "stream",
     "text": [
      "Exception ignored in: <function ResourceTracker.__del__ at 0xffff8423bf60>\n",
      "Traceback (most recent call last):\n",
      "  File \"/usr/local/lib/python3.12/multiprocessing/resource_tracker.py\", line 77, in __del__\n",
      "  File \"/usr/local/lib/python3.12/multiprocessing/resource_tracker.py\", line 86, in _stop\n",
      "  File \"/usr/local/lib/python3.12/multiprocessing/resource_tracker.py\", line 111, in _stop_locked\n",
      "ChildProcessError: [Errno 10] No child processes\n",
      "Exception ignored in: <function ResourceTracker.__del__ at 0xffff7b933f60>\n",
      "Traceback (most recent call last):\n",
      "  File \"/usr/local/lib/python3.12/multiprocessing/resource_tracker.py\", line 77, in __del__\n",
      "  File \"/usr/local/lib/python3.12/multiprocessing/resource_tracker.py\", line 86, in _stop\n",
      "  File \"/usr/local/lib/python3.12/multiprocessing/resource_tracker.py\", line 111, in _stop_locked\n",
      "ChildProcessError: [Errno 10] No child processes\n",
      "Exception ignored in: <function ResourceTracker.__del__ at 0xffff897c7f60>\n",
      "Traceback (most recent call last):\n",
      "  File \"/usr/local/lib/python3.12/multiprocessing/resource_tracker.py\", line 77, in __del__\n",
      "  File \"/usr/local/lib/python3.12/multiprocessing/resource_tracker.py\", line 86, in _stop\n",
      "  File \"/usr/local/lib/python3.12/multiprocessing/resource_tracker.py\", line 111, in _stop_locked\n",
      "ChildProcessError: [Errno 10] No child processes\n",
      "Exception ignored in: <function ResourceTracker.__del__ at 0xffff8233bf60>\n",
      "Traceback (most recent call last):\n",
      "  File \"/usr/local/lib/python3.12/multiprocessing/resource_tracker.py\", line 77, in __del__\n",
      "  File \"/usr/local/lib/python3.12/multiprocessing/resource_tracker.py\", line 86, in _stop\n",
      "  File \"/usr/local/lib/python3.12/multiprocessing/resource_tracker.py\", line 111, in _stop_locked\n",
      "ChildProcessError: [Errno 10] No child processes\n"
     ]
    }
   ],
   "source": [
    "# ╔══════════════════════════════════════════════════════════════════════╗\n",
    "# ║  HalvingGridSearchCV で省メモリ&高速にランダムフォレストを最適化  ║\n",
    "# ╚══════════════════════════════════════════════════════════════════════╝\n",
    "\n",
    "# ── 必要ライブラリ ──────────────────────────────────────────────\n",
    "import numpy as np\n",
    "import pandas as pd\n",
    "from joblib import parallel_backend\n",
    "from tqdm import tqdm\n",
    "\n",
    "from sklearn.experimental import enable_halving_search_cv  # ★必須：一行で有効化\n",
    "from sklearn.model_selection import HalvingGridSearchCV, train_test_split\n",
    "from sklearn.ensemble import RandomForestRegressor\n",
    "from sklearn.metrics import make_scorer, mean_squared_error, r2_score\n",
    "\n",
    "# ── 0. 入力 DataFrame ──────────────────────────────────────────\n",
    "df = grid.copy()\n",
    "# --------------------------------------------------------------\n",
    "# df = ...\n",
    "\n",
    "# ── 1. 共通設定 ────────────────────────────────────────────────\n",
    "FEATURES = [\"population\", \"centroid_X\", \"centroid_Y\"]\n",
    "\n",
    "TARGETS = {                       # {列名: 表示ラベル}\n",
    "    \"Rehab_cnt\":  \"Rehabilitation\",\n",
    "    \"Gastro_cnt\": \"Gastroenterology\",\n",
    "    \"Cardio_cnt\": \"Cardiology\",\n",
    "    \"Uro_cnt\":    \"Urology (Med.)\"\n",
    "}\n",
    "\n",
    "TEST_SIZE     = 0.20\n",
    "CV_FOLDS      = 5\n",
    "SEED          = 42\n",
    "N_JOBS        = 4                 # 物理コア数の半分程度に抑えると安定\n",
    "\n",
    "# RMSE を返す scorer (GridSearch は “大きいほど良い” が前提なので符号を反転)\n",
    "rmse_scorer = make_scorer(\n",
    "    lambda y, yhat: np.sqrt(mean_squared_error(y, yhat)),\n",
    "    greater_is_better=False\n",
    ")\n",
    "\n",
    "# ── 2. ハイパーパラメータグリッド  (メモリに優しいサブセット) ─────────\n",
    "param_grid = {\n",
    "    \"n_estimators\":      [100, 300],          # ← より軽量\n",
    "    \"max_depth\":         [None, 20, 40],\n",
    "    \"min_samples_split\": [2, 5],\n",
    "    \"min_samples_leaf\":  [1, 2],\n",
    "    \"max_features\":      [\"sqrt\", 0.7]        # 0.7 = 全特徴量の 70 %\n",
    "}\n",
    "\n",
    "print(f\"Grid size: {np.prod([len(v) for v in param_grid.values()])} × {CV_FOLDS}-fold CV\")\n",
    "\n",
    "# ── 3. 診療科ごとに学習 ───────────────────────────────────────\n",
    "for col, label in tqdm(TARGETS.items()):\n",
    "    print(f\"\\n🏥  {label} ({col}) — training...\")\n",
    "\n",
    "    X = df[FEATURES].fillna(0)\n",
    "    y = df[col].fillna(0)\n",
    "\n",
    "    X_tr, X_te, y_tr, y_te = train_test_split(\n",
    "        X, y, test_size=TEST_SIZE, random_state=SEED\n",
    "    )\n",
    "\n",
    "    base_rf = RandomForestRegressor(\n",
    "        n_jobs=N_JOBS,\n",
    "        random_state=SEED\n",
    "    )\n",
    "\n",
    "    gsearch = HalvingGridSearchCV(\n",
    "        base_rf,\n",
    "        param_grid=param_grid,\n",
    "        factor=3,                    # 生き残り比率 1/3\n",
    "        scoring=rmse_scorer,\n",
    "        refit=True,                  # ベスト RMSE で再学習済み\n",
    "        cv=CV_FOLDS,\n",
    "        n_jobs=N_JOBS,\n",
    "        verbose=0\n",
    "    )\n",
    "\n",
    "    # ★必要に応じて \"threading\" にすると更にメモリ節約\n",
    "    with parallel_backend(\"loky\"):\n",
    "        gsearch.fit(X_tr, y_tr)\n",
    "\n",
    "    best = gsearch.best_estimator_\n",
    "    y_pred = best.predict(X_te)\n",
    "\n",
    "    rmse_test = np.sqrt(mean_squared_error(y_te, y_pred))\n",
    "    r2_test   = r2_score(y_te, y_pred)\n",
    "\n",
    "    print(f\"   RMSE_test = {rmse_test:7.3f}   R²_test = {r2_test:6.3f}\")\n",
    "    print(\"   best_params :\", gsearch.best_params_)"
   ]
  },
  {
   "cell_type": "code",
   "execution_count": 11,
   "id": "d7bd10c8",
   "metadata": {},
   "outputs": [
    {
     "name": "stdout",
     "output_type": "stream",
     "text": [
      "📦 Saved →  models/Rehab_cnt_rf.pkl\n",
      "📦 Saved →  models/Gastro_cnt_rf.pkl\n",
      "📦 Saved →  models/Cardio_cnt_rf.pkl\n",
      "📦 Saved →  models/Uro_cnt_rf.pkl\n"
     ]
    }
   ],
   "source": [
    "# ── 4. モデルを pkl で保存 ────────────────────────────────\n",
    "import os, joblib\n",
    "\n",
    "SAVE_DIR = \"models\"            # ディレクトリ名はお好みで\n",
    "os.makedirs(SAVE_DIR, exist_ok=True)\n",
    "\n",
    "# いま回した gsearch / best をもう一度走査して保存\n",
    "for col, label in TARGETS.items():\n",
    "    filename = f\"{SAVE_DIR}/{col}_rf.pkl\"     # 例: models/Rehab_cnt_rf.pkl\n",
    "    joblib.dump(\n",
    "        gsearch.best_estimator_ if label in locals() else None, \n",
    "        filename\n",
    "    )\n",
    "    print(f\"📦 Saved →  {filename}\")"
   ]
  },
  {
   "cell_type": "markdown",
   "id": "05b723a3",
   "metadata": {},
   "source": [
    "# XGBoostベースラインの構築"
   ]
  },
  {
   "cell_type": "code",
   "execution_count": 12,
   "id": "6f9ba634",
   "metadata": {},
   "outputs": [
    {
     "name": "stdout",
     "output_type": "stream",
     "text": [
      "Grid size: 96 × 5-fold CV\n"
     ]
    },
    {
     "name": "stderr",
     "output_type": "stream",
     "text": [
      "  0%|          | 0/4 [00:00<?, ?it/s]"
     ]
    },
    {
     "name": "stdout",
     "output_type": "stream",
     "text": [
      "\n",
      "🏥  Rehabilitation (Rehab_cnt) — training...\n"
     ]
    },
    {
     "name": "stderr",
     "output_type": "stream",
     "text": [
      " 25%|██▌       | 1/4 [00:35<01:45, 35.26s/it]"
     ]
    },
    {
     "name": "stdout",
     "output_type": "stream",
     "text": [
      "   RMSE_test =   0.662   R²_test =  0.437\n",
      "   best_params : {'colsample_bytree': 0.8, 'learning_rate': 0.05, 'max_depth': 3, 'n_estimators': 200, 'reg_lambda': 5.0, 'subsample': 0.8}\n",
      "📦  saved → models_xgb/Rehab_cnt_xgb.json\n",
      "\n",
      "🏥  Gastroenterology (Gastro_cnt) — training...\n"
     ]
    },
    {
     "name": "stderr",
     "output_type": "stream",
     "text": [
      " 50%|█████     | 2/4 [01:07<01:07, 33.60s/it]"
     ]
    },
    {
     "name": "stdout",
     "output_type": "stream",
     "text": [
      "   RMSE_test =   0.624   R²_test =  0.460\n",
      "   best_params : {'colsample_bytree': 1.0, 'learning_rate': 0.05, 'max_depth': 3, 'n_estimators': 200, 'reg_lambda': 5.0, 'subsample': 0.8}\n",
      "📦  saved → models_xgb/Gastro_cnt_xgb.json\n",
      "\n",
      "🏥  Cardiology (Cardio_cnt) — training...\n"
     ]
    },
    {
     "name": "stderr",
     "output_type": "stream",
     "text": [
      " 75%|███████▌  | 3/4 [01:39<00:32, 32.92s/it]"
     ]
    },
    {
     "name": "stdout",
     "output_type": "stream",
     "text": [
      "   RMSE_test =   0.443   R²_test =  0.394\n",
      "   best_params : {'colsample_bytree': 0.8, 'learning_rate': 0.05, 'max_depth': 3, 'n_estimators': 400, 'reg_lambda': 5.0, 'subsample': 1.0}\n",
      "📦  saved → models_xgb/Cardio_cnt_xgb.json\n",
      "\n",
      "🏥  Urology (Med.) (Uro_cnt) — training...\n"
     ]
    },
    {
     "name": "stderr",
     "output_type": "stream",
     "text": [
      "100%|██████████| 4/4 [02:08<00:00, 32.16s/it]"
     ]
    },
    {
     "name": "stdout",
     "output_type": "stream",
     "text": [
      "   RMSE_test =   0.554   R²_test =  0.241\n",
      "   best_params : {'colsample_bytree': 0.8, 'learning_rate': 0.05, 'max_depth': 3, 'n_estimators': 200, 'reg_lambda': 5.0, 'subsample': 0.8}\n",
      "📦  saved → models_xgb/Uro_cnt_xgb.json\n"
     ]
    },
    {
     "name": "stderr",
     "output_type": "stream",
     "text": [
      "\n"
     ]
    }
   ],
   "source": [
    "# ╔══════════════════════════════════════════════════════════════════════╗\n",
    "# ║      HalvingGridSearchCV × XGBoostRegressor（省メモリ & 高速）     ║\n",
    "# ╚══════════════════════════════════════════════════════════════════════╝\n",
    "# ❶ もし「No module named 'xgboost'」が出たら:\n",
    "#     pip install -q xgboost==2.0.3\n",
    "#    （scikit-learn API が安定している 2 系を推奨）\n",
    "# ────────────────────────────────────────────────────────────────────────\n",
    "\n",
    "import numpy as np, pandas as pd, os\n",
    "from tqdm import tqdm\n",
    "from joblib import parallel_backend\n",
    "\n",
    "from sklearn.experimental import enable_halving_search_cv      # noqa\n",
    "from sklearn.model_selection import HalvingGridSearchCV, train_test_split\n",
    "from sklearn.metrics import make_scorer, mean_squared_error, r2_score\n",
    "\n",
    "from xgboost import XGBRegressor\n",
    "\n",
    "# ── 0. DataFrame ───────────────────────────────────────────────────────\n",
    "df = grid.copy()                    # 例: 既存の grid データ\n",
    "FEATURES = [\"population\", \"centroid_X\", \"centroid_Y\"]\n",
    "\n",
    "TARGETS = {\n",
    "    \"Rehab_cnt\":  \"Rehabilitation\",\n",
    "    \"Gastro_cnt\": \"Gastroenterology\",\n",
    "    \"Cardio_cnt\": \"Cardiology\",\n",
    "    \"Uro_cnt\":    \"Urology (Med.)\"\n",
    "}\n",
    "\n",
    "# ── 1. 共通ハイパーパラメータ ─────────────────────────────────\n",
    "TEST_SIZE, CV_FOLDS, SEED, N_JOBS = 0.20, 5, 42, 4\n",
    "\n",
    "rmse_scorer = make_scorer(\n",
    "    lambda y, yhat: np.sqrt(mean_squared_error(y, yhat)),\n",
    "    greater_is_better=False\n",
    ")\n",
    "\n",
    "# XGBoost 用グリッド（軽め）\n",
    "param_grid = {\n",
    "    \"n_estimators\":      [200, 400],\n",
    "    \"max_depth\":         [3, 6, 10],\n",
    "    \"learning_rate\":     [0.05, 0.1],\n",
    "    \"subsample\":         [0.8, 1.0],\n",
    "    \"colsample_bytree\":  [0.8, 1.0],\n",
    "    \"reg_lambda\":        [1.0, 5.0]\n",
    "}\n",
    "print(f\"Grid size: {np.prod([len(v) for v in param_grid.values()])} × {CV_FOLDS}-fold CV\")\n",
    "\n",
    "# ── 2. 学習ループ ──────────────────────────────────────────────\n",
    "for col, label in tqdm(TARGETS.items()):\n",
    "    print(f\"\\n🏥  {label} ({col}) — training...\")\n",
    "\n",
    "    X = df[FEATURES].fillna(0)\n",
    "    y = df[col].fillna(0)\n",
    "\n",
    "    X_tr, X_te, y_tr, y_te = train_test_split(\n",
    "        X, y, test_size=TEST_SIZE, random_state=SEED\n",
    "    )\n",
    "\n",
    "    base_xgb = XGBRegressor(\n",
    "        objective=\"reg:squarederror\",\n",
    "        tree_method=\"hist\",      # CPU最速\n",
    "        n_jobs=N_JOBS,\n",
    "        random_state=SEED,\n",
    "        verbosity=0\n",
    "    )\n",
    "\n",
    "    gsearch = HalvingGridSearchCV(\n",
    "        base_xgb,\n",
    "        param_grid=param_grid,\n",
    "        factor=3,\n",
    "        scoring=rmse_scorer,\n",
    "        refit=True,\n",
    "        cv=CV_FOLDS,\n",
    "        n_jobs=N_JOBS,\n",
    "        verbose=0\n",
    "    )\n",
    "\n",
    "    # メモリ節約したい場合は \"threading\"\n",
    "    with parallel_backend(\"loky\"):\n",
    "        gsearch.fit(X_tr, y_tr)\n",
    "\n",
    "    best = gsearch.best_estimator_\n",
    "    y_pred = best.predict(X_te)\n",
    "\n",
    "    rmse_test = np.sqrt(mean_squared_error(y_te, y_pred))\n",
    "    r2_test   = r2_score(y_te, y_pred)\n",
    "\n",
    "    print(f\"   RMSE_test = {rmse_test:7.3f}   R²_test = {r2_test:6.3f}\")\n",
    "    print(\"   best_params :\", gsearch.best_params_)\n",
    "\n",
    "    # ─ 保存 (pkl) ────────────────────────────────────────────\n",
    "    os.makedirs(\"models_xgb\", exist_ok=True)\n",
    "    best.save_model(f\"models_xgb/{col}_xgb.json\")   # XGBoost ネイティブ形式\n",
    "    print(f\"📦  saved → models_xgb/{col}_xgb.json\")"
   ]
  },
  {
   "cell_type": "markdown",
   "id": "ed16be00",
   "metadata": {},
   "source": [
    "# LightGBMベースラインの構築"
   ]
  },
  {
   "cell_type": "code",
   "execution_count": null,
   "id": "f1c03418",
   "metadata": {},
   "outputs": [
    {
     "name": "stdout",
     "output_type": "stream",
     "text": [
      "Grid size: 64 × 5-fold CV\n"
     ]
    },
    {
     "name": "stderr",
     "output_type": "stream",
     "text": [
      "  0%|          | 0/4 [00:00<?, ?it/s]"
     ]
    },
    {
     "name": "stdout",
     "output_type": "stream",
     "text": [
      "\n",
      "🏥  Rehabilitation (Rehab_cnt) — training...\n"
     ]
    },
    {
     "name": "stderr",
     "output_type": "stream",
     "text": [
      " 25%|██▌       | 1/4 [05:23<16:11, 323.77s/it]"
     ]
    },
    {
     "name": "stdout",
     "output_type": "stream",
     "text": [
      "   RMSE_test =   0.657   R²_test =  0.445\n",
      "   best_params : {'colsample_bytree': 1.0, 'learning_rate': 0.05, 'max_depth': 3, 'n_estimators': 200, 'num_leaves': 15, 'subsample': 1.0}\n",
      "📦  saved → models_lgb/Rehab_cnt_lgb.txt\n",
      "\n",
      "🏥  Gastroenterology (Gastro_cnt) — training...\n"
     ]
    }
   ],
   "source": [
    "# ╔══════════════════════════════════════════════════════════════════════╗\n",
    "# ║        HalvingGridSearchCV × LightGBMRegressor  (省メモリ高速)       ║\n",
    "# ╚══════════════════════════════════════════════════════════════════════╝\n",
    "# LightGBM でも 3 特徴量で問題なく動きます。n_jobs を絞り\n",
    "# tree_method などの指定は不要です。\n",
    "\n",
    "import numpy as np, pandas as pd, os, warnings, lightgbm as lgb, logging\n",
    "from tqdm import tqdm\n",
    "from joblib import parallel_backend\n",
    "\n",
    "from sklearn.experimental import enable_halving_search_cv   # noqa\n",
    "from sklearn.model_selection import HalvingGridSearchCV, train_test_split\n",
    "from sklearn.metrics import make_scorer, mean_squared_error, r2_score\n",
    "\n",
    "\n",
    "logging.getLogger(\"lightgbm\").setLevel(logging.CRITICAL)   # Info を黙らせる\n",
    "warnings.filterwarnings(\"ignore\", category=UserWarning, module=\"lightgbm\")\n",
    "\n",
    "# ── 0. DataFrame ───────────────────────────────────────────\n",
    "df = grid.copy()                     # 例: 既にある DataFrame\n",
    "FEATURES = [\"population\", \"centroid_X\", \"centroid_Y\"]\n",
    "\n",
    "TARGETS = {\n",
    "    \"Rehab_cnt\":  \"Rehabilitation\",\n",
    "    \"Gastro_cnt\": \"Gastroenterology\",\n",
    "    \"Cardio_cnt\": \"Cardiology\",\n",
    "    \"Uro_cnt\":    \"Urology (Med.)\"\n",
    "}\n",
    "\n",
    "# ── 1. 共通パラメータ ───────────────────────────────\n",
    "TEST_SIZE, CV_FOLDS, SEED, N_JOBS = 0.20, 5, 42, 4\n",
    "\n",
    "rmse_scorer = make_scorer(\n",
    "    lambda y, yhat: np.sqrt(mean_squared_error(y, yhat)),\n",
    "    greater_is_better=False\n",
    ")\n",
    "\n",
    "# ── 2. ハイパーパラメータグリッド ───────────────────\n",
    "param_grid = {\n",
    "    \"n_estimators\": [200, 400],\n",
    "    \"learning_rate\": [0.05, 0.1],\n",
    "    \"num_leaves\": [15, 31],\n",
    "    \"max_depth\": [3, 6],\n",
    "    \"subsample\": [0.8, 1.0],\n",
    "    \"colsample_bytree\": [0.8, 1.0],\n",
    "}\n",
    "import math\n",
    "print(f\"Grid size: {math.prod([len(v) for v in param_grid.values()])} × {CV_FOLDS}-fold CV\")\n",
    "\n",
    "# ── 3. 科目ごと学習 ───────────────────────────────────\n",
    "for col, label in tqdm(TARGETS.items()):\n",
    "    print(f\"\\n🏥  {label} ({col}) — training...\")\n",
    "\n",
    "    X = df[FEATURES].fillna(0)\n",
    "    y = df[col].fillna(0)\n",
    "\n",
    "    X_tr, X_te, y_tr, y_te = train_test_split(\n",
    "        X, y, test_size=TEST_SIZE, random_state=SEED\n",
    "    )\n",
    "\n",
    "    base_lgb = lgb.LGBMRegressor(\n",
    "        objective=\"regression\",\n",
    "        n_jobs=N_JOBS,\n",
    "        random_state=SEED,\n",
    "        verbosity=-1,\n",
    "        force_row_wise=True \n",
    "    )\n",
    "\n",
    "    gsearch = HalvingGridSearchCV(\n",
    "        base_lgb,\n",
    "        param_grid=param_grid,\n",
    "        factor=3,                 # 上位 1/3 で次ラウンド\n",
    "        scoring=rmse_scorer,\n",
    "        refit=True,\n",
    "        cv=CV_FOLDS,\n",
    "        n_jobs=N_JOBS,\n",
    "        verbose=0\n",
    "    )\n",
    "\n",
    "    # 省メモリ化：必要なら \"threading\" へ\n",
    "    with parallel_backend(\"loky\"):\n",
    "        gsearch.fit(X_tr, y_tr)\n",
    "\n",
    "    best = gsearch.best_estimator_\n",
    "    y_pred = best.predict(X_te)\n",
    "\n",
    "    rmse_test = np.sqrt(mean_squared_error(y_te, y_pred))\n",
    "    r2_test   = r2_score(y_te, y_pred)\n",
    "\n",
    "    print(f\"   RMSE_test = {rmse_test:7.3f}   R²_test = {r2_test:6.3f}\")\n",
    "    print(\"   best_params :\", gsearch.best_params_)\n",
    "\n",
    "    # ── モデル保存 (LightGBM ネイティブ) ───────────────────\n",
    "    os.makedirs(\"models_lgb\", exist_ok=True)\n",
    "    best.booster_.save_model(f\"models_lgb/{col}_lgb.txt\")\n",
    "    print(f\"📦  saved → models_lgb/{col}_lgb.txt\")"
   ]
  },
  {
   "cell_type": "code",
   "execution_count": null,
   "id": "845785cb",
   "metadata": {},
   "outputs": [],
   "source": []
  }
 ],
 "metadata": {
  "kernelspec": {
   "display_name": ".venv",
   "language": "python",
   "name": "python3"
  },
  "language_info": {
   "codemirror_mode": {
    "name": "ipython",
    "version": 3
   },
   "file_extension": ".py",
   "mimetype": "text/x-python",
   "name": "python",
   "nbconvert_exporter": "python",
   "pygments_lexer": "ipython3",
   "version": "3.12.10"
  }
 },
 "nbformat": 4,
 "nbformat_minor": 5
}
