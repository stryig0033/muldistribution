{
 "cells": [
  {
   "cell_type": "code",
   "execution_count": null,
   "metadata": {
    "colab": {
     "base_uri": "https://localhost:8080/"
    },
    "executionInfo": {
     "elapsed": 24764,
     "status": "ok",
     "timestamp": 1738136035334,
     "user": {
      "displayName": "Tomoki TAKATA",
      "userId": "14608156878215203331"
     },
     "user_tz": -540
    },
    "id": "2zh-rtJ9Lvuy",
    "outputId": "967b1267-0374-47af-b148-f56e84536342"
   },
   "outputs": [],
   "source": [
    "# libraries\n",
    "import pandas as pd\n",
    "\n",
    "# classification dictionary\n",
    "import os\n",
    "import sys\n",
    "sys.path.append(os.path.abspath(\"modules\"))\n",
    "import modules.dictionary as dict\n",
    "from modules.classify import classify_keywords\n",
    "\n",
    "# set your path here\n",
    "os.chdir(\"input_data\")\n",
    "print(f'current directory: {os.getcwd()}')"
   ]
  },
  {
   "cell_type": "markdown",
   "metadata": {
    "id": "K1in7wSCobAk"
   },
   "source": [
    "ベースの分類は東大病院の診療科構成を参考。  \n",
    "- 腎臓・人工透析内科：これはこれで一つあるっぽい\n",
    "- ペインクリニック：内科、麻酔科、整形外科に分類される場合がある。\n",
    "- 平成 20 年 4 月 1 日以降、広告することが認められない診療科名「神経科」、「呼吸器科」、「消化器科」、「胃腸科」、「循環器科」、「皮膚泌尿器科」、「性病科」、「こう門科」、「気管食道科」"
   ]
  },
  {
   "cell_type": "code",
   "execution_count": 5,
   "metadata": {},
   "outputs": [],
   "source": [
    "# override_map_2010 = {\n",
    "#     \"気管食道科\": \"呼吸器内科\",\n",
    "#     \"リ\": \"リウマチ科\",  # 市立札幌病院\n",
    "#     \"神経科\": '脳神経外科',\n",
    "#     \"循環器科\": '循環器内科',\n",
    "#     '呼吸器科': '呼吸器内科',\n",
    "# }\n",
    "\n",
    "override_map_2014 = {\n",
    "    \"消化器科\": [\"消化器内科\"],\n",
    "    \"呼吸器科\": [\"呼吸器内科\"],\n",
    "    \"気管食道科\": [\"呼吸器内科\"],\n",
    "    \n",
    "}"
   ]
  },
  {
   "cell_type": "code",
   "execution_count": null,
   "metadata": {},
   "outputs": [],
   "source": [
    "# 分類対象となるキーワードの例\n",
    "uniq_dpt = pd.read_csv('2014.csv').iloc[:,1]\n",
    "uniq_dpt = uniq_dpt.to_list()\n",
    "uniq_dpt"
   ]
  },
  {
   "cell_type": "code",
   "execution_count": null,
   "metadata": {},
   "outputs": [],
   "source": [
    "classified_keywords = classify_keywords(\n",
    "    keywords=uniq_dpt,\n",
    "    classification_dict=dict.classification_dict,\n",
    "    multiple=True,            # 複数マッチを許可\n",
    "    override_map=override_map_2014,\n",
    "    override_match_type=\"exact\"   # override判定は部分一致\n",
    ")\n",
    "\n",
    "# 分類結果をDataFrameに整形して表示\n",
    "max_length = max(len(values) for values in classified_keywords.values())\n",
    "data = {\n",
    "    cat: values + [\"\"] * (max_length - len(values))\n",
    "    for cat, values in classified_keywords.items()\n",
    "}\n",
    "result_df = pd.DataFrame(data)\n",
    "display(result_df)"
   ]
  },
  {
   "cell_type": "code",
   "execution_count": null,
   "metadata": {},
   "outputs": [],
   "source": [
    "os.getcwd()"
   ]
  },
  {
   "cell_type": "code",
   "execution_count": 16,
   "metadata": {
    "id": "QGivBOSsuaX8"
   },
   "outputs": [],
   "source": [
    "result_df.to_csv('../2010_classified.csv', encoding='utf-8', index=True)"
   ]
  },
  {
   "cell_type": "markdown",
   "metadata": {
    "id": "gweqfDOI5k5P"
   },
   "source": [
    "診療科の分類は、医療レセプトにおける厚生労働省が指定する区分を使用。\n",
    "https://www.mhlw.go.jp/topics/2009/05/dl/tp0521-1a_0053.pdf"
   ]
  }
 ],
 "metadata": {
  "colab": {
   "authorship_tag": "ABX9TyMeSyUrNrDW0TT8GxtCB5Dz",
   "provenance": []
  },
  "kernelspec": {
   "display_name": ".venv",
   "language": "python",
   "name": "python3"
  },
  "language_info": {
   "codemirror_mode": {
    "name": "ipython",
    "version": 3
   },
   "file_extension": ".py",
   "mimetype": "text/x-python",
   "name": "python",
   "nbconvert_exporter": "python",
   "pygments_lexer": "ipython3",
   "version": "3.12.0"
  }
 },
 "nbformat": 4,
 "nbformat_minor": 0
}
