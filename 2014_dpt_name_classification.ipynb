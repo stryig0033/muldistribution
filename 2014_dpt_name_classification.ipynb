{
 "cells": [
  {
   "cell_type": "code",
   "execution_count": null,
   "metadata": {
    "colab": {
     "base_uri": "https://localhost:8080/"
    },
    "executionInfo": {
     "elapsed": 24764,
     "status": "ok",
     "timestamp": 1738136035334,
     "user": {
      "displayName": "Tomoki TAKATA",
      "userId": "14608156878215203331"
     },
     "user_tz": -540
    },
    "id": "2zh-rtJ9Lvuy",
    "outputId": "967b1267-0374-47af-b148-f56e84536342"
   },
   "outputs": [],
   "source": [
    "# libraries\n",
    "import pandas as pd\n",
    "\n",
    "# classification dictionary\n",
    "import os\n",
    "import sys\n",
    "sys.path.append(os.path.abspath(\"modules\"))\n",
    "import modules.dictionary as dict\n",
    "from modules.classify import classify_keywords\n",
    "\n",
    "# set your path here\n",
    "os.chdir(\"input_data\")\n",
    "print(f'current directory: {os.getcwd()}')"
   ]
  },
  {
   "cell_type": "markdown",
   "metadata": {
    "id": "K1in7wSCobAk"
   },
   "source": [
    "ベースの分類は東大病院の診療科構成を参考。  \n",
    "- 腎臓・人工透析内科：これはこれで一つあるっぽい\n",
    "- ペインクリニック：内科、麻酔科、整形外科に分類される場合がある。\n",
    "- 平成 20 年 4 月 1 日以降、広告することが認められない診療科名「神経科」、「呼吸器科」、「消化器科」、「胃腸科」、「循環器科」、「皮膚泌尿器科」、「性病科」、「こう門科」、「気管食道科」"
   ]
  },
  {
   "cell_type": "code",
   "execution_count": 2,
   "metadata": {},
   "outputs": [],
   "source": [
    "# override_map_2010 = {\n",
    "#     \"気管食道科\": \"呼吸器内科\",\n",
    "#     \"リ\": \"リウマチ科\",  # 市立札幌病院\n",
    "#     \"神経科\": '脳神経外科',\n",
    "#     \"循環器科\": '循環器内科',\n",
    "#     '呼吸器科': '呼吸器内科',\n",
    "# }\n",
    "\n",
    "# partial matching\n",
    "override_map_2014 = {\n",
    "\n",
    "    # ----内科・外科----\n",
    "    \"訪問診療科\": [\"一般内科\"],\n",
    "    \"訪問診療\": [\"一般内科\"],\n",
    "    \"漢方\": [\"一般内科\"], \n",
    "    \"総合診療\": ['一般内科', '一般外科'],\n",
    "    \"総合診療科\": ['一般内科', '一般外科'],\n",
    "    \"基本診療\": ['一般内科', '一般外科'],\n",
    "    \"基本診療科\": ['一般内科', '一般外科'],\n",
    "\n",
    "     # ----消化器内科・外科----\n",
    "    \"消科\": [\"消化器内科\", \"消化器外科\"],\n",
    "    \"消化器\": [\"消化器内科\", \"消化器外科\"],\n",
    "    \"消化器科\": [\"消化器内科\", \"消化器外科\"],\n",
    "    \"消火器科\": ['消化器内科', '消化器外科'],\n",
    "    \"胃腸科\": [\"消化器内科\", \"消化器外科\"],\n",
    "    \"胃腸下科\": [\"消化器内科\", \"消化器外科\"],\n",
    "    \"胃腸器科\": [\"消化器内科\", \"消化器外科\"],\n",
    "    \"消・胃腸科\": [\"消化器内科\", \"消化器外科\"],\n",
    "    \"消胃\": [\"消化器内科\", \"消化器外科\"],\n",
    "    \"食道科\": [\"消化器内科\", \"消化器外科\"],\n",
    "    \"消化器・胃腸科\": [\"消化器内科\", '消化器外科'],\n",
    "    \"消化器胃腸科\": [\"消化器内科\", '消化器外科'],\n",
    "\n",
    "     # ----呼吸器内科・外科----\n",
    "    \"気管科\": [\"呼吸器内科\", '呼吸器外科'],\n",
    "    \"呼吸器科\": [\"呼吸器内科\", '呼吸器外科'],\n",
    "    \"気管支科\": ['呼吸器内科'],\n",
    "    \"気管食科\": ['呼吸器内科'],\n",
    "    \"気管食道科\": [\"呼吸器内科\", '呼吸器外科', \"消化器内科\", \"消化器外科\"],\n",
    "    \"気道食道科\": [\"呼吸器内科\", '呼吸器外科', \"消化器内科\", \"消化器外科\"],\n",
    "\n",
    "     # ----循環器内科・外科----\n",
    "    \"循環器科\": [\"循環器内科\", \"循環器外科\"],\n",
    "    \"循環器\": [\"循環器内科\", \"循環器外科\"],\n",
    "    \"循環科\": [\"循環器内科\", \"循環器外科\"],\n",
    "\n",
    "    \"循呼\": [\"呼吸器内科\", '呼吸器外科', \"循環器内科\", \"循環器外科\"],\n",
    "\n",
    "    # ----精神・心療----\n",
    "    \"精心内\": [\"精神神経科\", \"心療内科\"],#\n",
    "    \"精心内\": [\"精神神経科\"],#\n",
    "    \"子どものこころ診療科\": ['心療内科'],\n",
    "    \"心身医療科\": ['心療内科'],\n",
    "\n",
    "    \"女性不妊症\": ['産婦人科'],\n",
    "    \"疼\": ['麻酔科', '整形外科', 'リハビリテーション科'],\n",
    "    \"成分献血\": ['病理診断科'],#\n",
    "    \n",
    "    # ----肝臓・胆嚢・膵臓----\n",
    "    \"肝臓科\": ['肝・胆・膵内科', '肝・胆・膵外科'],\n",
    "    \"胆のう\": ['肝・胆・膵内科', '肝・胆・膵外科'],\n",
    "    \"肝臓・胆のう・膵臓科\": ['肝・胆・膵内科', '肝・胆・膵外科'],\n",
    "\n",
    "    # ----癌----\n",
    "    \"が内\": ['臨床腫瘍科'], # おそらく「がん内科」\n",
    "\n",
    "    # ----歯科----\n",
    "    \"矯科\": [\"歯科・口腔顎顔面外科\"], #おそらく「矯正歯科」\n",
    "    \"噛み合わせ不良による頭痛\": ['歯科・口腔顎顔面外科'],\n",
    "\n",
    "    # ----腎臓・内分泌----\n",
    "    \"血液浄化\": ['腎臓・内分泌内科'],\n",
    "    \"高内\": [\"腎臓・内分泌内科\"], # おそらく「高血圧・内分泌内科」\n",
    "    \"小腎\": ['小児科', \"腎臓・内分泌内科\"], # おそらく 小児腎臓内科 or 小児腎臓外科\n",
    "    \"内高精\": [\"腎臓・内分泌内科\", \"泌尿器科\"], # おそらく 内分泌・高血圧・生殖内科 or 生殖医療科 (精 = 精巣機能：男性不妊？)   \n",
    "}"
   ]
  },
  {
   "cell_type": "code",
   "execution_count": null,
   "metadata": {},
   "outputs": [],
   "source": [
    "# 分類対象となるキーワードの例\n",
    "uniq_dpt = pd.read_csv('2014.csv').iloc[:,1]\n",
    "uniq_dpt = uniq_dpt.to_list()\n",
    "uniq_dpt"
   ]
  },
  {
   "cell_type": "code",
   "execution_count": null,
   "metadata": {},
   "outputs": [],
   "source": [
    "classified_keywords = classify_keywords(\n",
    "    keywords=uniq_dpt,\n",
    "    classification_dict=dict.classification_dict,\n",
    "    multiple=True,            # 複数マッチを許可\n",
    "    override_map=override_map_2014,\n",
    "    override_match_type=\"partial\"   # override判定は部分一致\n",
    ")\n",
    "\n",
    "# 分類結果をDataFrameに整形して表示\n",
    "max_length = max(len(values) for values in classified_keywords.values())\n",
    "data = {\n",
    "    cat: values + [\"\"] * (max_length - len(values))\n",
    "    for cat, values in classified_keywords.items()\n",
    "}\n",
    "result_df = pd.DataFrame(data)\n",
    "display(result_df)"
   ]
  },
  {
   "cell_type": "code",
   "execution_count": 16,
   "metadata": {
    "id": "QGivBOSsuaX8"
   },
   "outputs": [],
   "source": [
    "# result_df.to_csv('../2010_classified.csv', encoding='utf-8', index=True)"
   ]
  },
  {
   "cell_type": "markdown",
   "metadata": {
    "id": "gweqfDOI5k5P"
   },
   "source": [
    "診療科の分類は、医療レセプトにおける厚生労働省が指定する区分を使用。\n",
    "https://www.mhlw.go.jp/topics/2009/05/dl/tp0521-1a_0053.pdf"
   ]
  }
 ],
 "metadata": {
  "colab": {
   "authorship_tag": "ABX9TyMeSyUrNrDW0TT8GxtCB5Dz",
   "provenance": []
  },
  "kernelspec": {
   "display_name": ".venv",
   "language": "python",
   "name": "python3"
  },
  "language_info": {
   "codemirror_mode": {
    "name": "ipython",
    "version": 3
   },
   "file_extension": ".py",
   "mimetype": "text/x-python",
   "name": "python",
   "nbconvert_exporter": "python",
   "pygments_lexer": "ipython3",
   "version": "3.12.0"
  }
 },
 "nbformat": 4,
 "nbformat_minor": 0
}
