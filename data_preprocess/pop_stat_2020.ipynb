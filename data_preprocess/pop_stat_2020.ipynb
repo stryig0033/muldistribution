{
 "cells": [
  {
   "cell_type": "markdown",
   "id": "eb1c41c2",
   "metadata": {},
   "source": [
    "データあるので前処理なし"
   ]
  },
  {
   "cell_type": "markdown",
   "id": "7bc5d0bc",
   "metadata": {},
   "source": []
  }
 ],
 "metadata": {
  "language_info": {
   "name": "python"
  }
 },
 "nbformat": 4,
 "nbformat_minor": 5
}
